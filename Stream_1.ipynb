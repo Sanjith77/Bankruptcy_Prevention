{
 "cells": [
  {
   "cell_type": "code",
   "execution_count": 9,
   "id": "bf581834-cf39-4dfa-a0fb-1e7e4b014fc7",
   "metadata": {},
   "outputs": [
    {
     "name": "stderr",
     "output_type": "stream",
     "text": [
      "2024-12-27 23:13:39.133 Thread 'MainThread': missing ScriptRunContext! This warning can be ignored when running in bare mode.\n",
      "2024-12-27 23:13:39.134 Thread 'MainThread': missing ScriptRunContext! This warning can be ignored when running in bare mode.\n",
      "2024-12-27 23:13:39.135 Thread 'MainThread': missing ScriptRunContext! This warning can be ignored when running in bare mode.\n",
      "2024-12-27 23:13:39.136 Thread 'MainThread': missing ScriptRunContext! This warning can be ignored when running in bare mode.\n",
      "2024-12-27 23:13:39.137 Thread 'MainThread': missing ScriptRunContext! This warning can be ignored when running in bare mode.\n",
      "2024-12-27 23:13:39.137 Thread 'MainThread': missing ScriptRunContext! This warning can be ignored when running in bare mode.\n",
      "2024-12-27 23:13:39.138 Thread 'MainThread': missing ScriptRunContext! This warning can be ignored when running in bare mode.\n",
      "2024-12-27 23:13:39.138 Thread 'MainThread': missing ScriptRunContext! This warning can be ignored when running in bare mode.\n",
      "2024-12-27 23:13:39.138 Thread 'MainThread': missing ScriptRunContext! This warning can be ignored when running in bare mode.\n",
      "2024-12-27 23:13:39.141 Thread 'MainThread': missing ScriptRunContext! This warning can be ignored when running in bare mode.\n",
      "2024-12-27 23:13:39.141 Thread 'MainThread': missing ScriptRunContext! This warning can be ignored when running in bare mode.\n"
     ]
    }
   ],
   "source": [
    "import streamlit as st\n",
    "import pandas as pd\n",
    "import numpy as np\n",
    "import joblib\n",
    "\n",
    "# Title of the app\n",
    "st.title(\"Bankruptcy Prevention App\")\n",
    "\n",
    "# Step 1: Load the trained model\n",
    "model_file = \"Bankruptcy_.pkl\"\n",
    "\n",
    "try:\n",
    "    model = joblib.load(model_file)\n",
    "    st.success(\"Model loaded successfully!\")\n",
    "except FileNotFoundError:\n",
    "    st.error(f\"Model file '{model_file}' not found. Please ensure the file is in the correct directory.\")\n",
    "    st.stop()\n",
    "\n",
    "# Step 2: Define the expected features\n",
    "expected_features = [\n",
    "    \"industrial_risk\", \"management_risk\", \"financial_flexibility\",\n",
    "    \"credibility\", \"competitiveness\", \"operating_risk\",\"class\"\n",
    "    \"feature_7\", \"feature_8\", \"feature_9\", \"feature_10\", \"feature_11\"\n",
    "]\n",
    "\n",
    "# Step 3: Upload the dataset\n",
    "uploaded_file = st.file_uploader(\"Upload the dataset file (Excel format)\", type=[\"xlsx\"])\n",
    "\n",
    "if uploaded_file:\n",
    "    try:\n",
    "        # Load the dataset\n",
    "        data = pd.read_excel(uploaded_file)\n",
    "        st.write(\"Data Preview:\")\n",
    "        st.dataframe(data.head())\n",
    "\n",
    "        # Display available columns\n",
    "        st.write(\"Available columns in the dataset:\")\n",
    "        st.write(data.columns.tolist())\n",
    "\n",
    "        # Check for missing features and add them with default values\n",
    "        missing_features = [feature for feature in expected_features if feature not in data.columns]\n",
    "        for feature in missing_features:\n",
    "            data[feature] = 0  # Default value can be adjusted as needed\n",
    "\n",
    "        # Prepare input features for prediction\n",
    "        X = data[expected_features]\n",
    "\n",
    "        st.write(\"Enter input values to predict bankruptcy:\")\n",
    "        user_input = []\n",
    "        for column in expected_features:\n",
    "            value = st.number_input(f\"Enter value for {column}:\", value=0.0)\n",
    "            user_input.append(value)\n",
    "\n",
    "        # Predict based on user input\n",
    "        if st.button(\"Predict\"):\n",
    "            user_input = np.array(user_input).reshape(1, -1)\n",
    "            prediction = model.predict(user_input)\n",
    "\n",
    "            # Map prediction to meaningful output\n",
    "            prediction_text = \"Non-Bankruptcy\" if prediction[0] == 1 else \"Bankruptcy\"\n",
    "            st.write(f\"Prediction: {prediction_text}\")\n",
    "\n",
    "    except Exception as e:\n",
    "        st.error(f\"An error occurred while processing the file: {e}\")\n",
    "else:\n",
    "    st.info(\"Please upload a file to proceed.\")\n"
   ]
  },
  {
   "cell_type": "code",
   "execution_count": null,
   "id": "24d717e0-d6a0-4692-aaaa-ad3ae6532e7c",
   "metadata": {},
   "outputs": [],
   "source": []
  },
  {
   "cell_type": "code",
   "execution_count": null,
   "id": "9bd4235b-87e1-48ae-b20f-c0d843f6d69f",
   "metadata": {},
   "outputs": [],
   "source": []
  },
  {
   "cell_type": "code",
   "execution_count": null,
   "id": "a82d7f22-8da5-4e6f-aa2f-c9317d094d1a",
   "metadata": {},
   "outputs": [],
   "source": []
  }
 ],
 "metadata": {
  "kernelspec": {
   "display_name": "Python 3 (ipykernel)",
   "language": "python",
   "name": "python3"
  },
  "language_info": {
   "codemirror_mode": {
    "name": "ipython",
    "version": 3
   },
   "file_extension": ".py",
   "mimetype": "text/x-python",
   "name": "python",
   "nbconvert_exporter": "python",
   "pygments_lexer": "ipython3",
   "version": "3.12.5"
  }
 },
 "nbformat": 4,
 "nbformat_minor": 5
}
